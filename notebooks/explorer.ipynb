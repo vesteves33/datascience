{
 "cells": [
  {
   "cell_type": "markdown",
   "metadata": {},
   "source": [
    "Importando as bibliotecas"
   ]
  },
  {
   "cell_type": "code",
   "execution_count": 1,
   "metadata": {},
   "outputs": [],
   "source": [
    "import pandas as pd\n",
    "import sqlite3"
   ]
  },
  {
   "cell_type": "markdown",
   "metadata": {},
   "source": [
    "Conectando a base de dados de produção."
   ]
  },
  {
   "cell_type": "code",
   "execution_count": 2,
   "metadata": {},
   "outputs": [],
   "source": [
    "connect_db_imoveis = sqlite3.connect(\"../data/imoveis_prod.db\")"
   ]
  },
  {
   "cell_type": "markdown",
   "metadata": {},
   "source": [
    "Definindo a query para selecionar os dados."
   ]
  },
  {
   "cell_type": "code",
   "execution_count": 3,
   "metadata": {},
   "outputs": [],
   "source": [
    "query = r\"\"\"\n",
    "        SELECT CIDADE.NOME as 'cidade'\n",
    "       ,ESTADO.NOME as 'estado'\n",
    "       ,IMOVEIS.AREA as 'area'\n",
    "       ,IMOVEIS.NUM_QUARTOS\n",
    "       ,IMOVEIS.NUM_BANHEIROS\n",
    "       ,IMOVEIS.NUM_ANDARES\n",
    "       ,IMOVEIS.ACEITA_ANIMAIS\n",
    "       ,IMOVEIS.MOBILIA\n",
    "       ,IMOVEIS.VALOR_ALUGUEL\n",
    "       ,IMOVEIS.VALOR_CONDOMINIO\n",
    "       ,IMOVEIS.VALOR_IPTU\n",
    "       ,IMOVEIS.VALOR_SEGURO_INCENDIO\n",
    "\n",
    "        FROM IMOVEIS INNER JOIN CIDADE\n",
    "        ON IMOVEIS.CODIGO_CIDADE = CIDADE.CODIGO\n",
    "        INNER JOIN ESTADO\n",
    "        ON CIDADE.CODIGO_ESTADO = ESTADO.CODIGO;\n",
    "        \"\"\""
   ]
  },
  {
   "cell_type": "markdown",
   "metadata": {},
   "source": [
    "Selecionando os dados no banco de dados e criando o Dataframe."
   ]
  },
  {
   "cell_type": "code",
   "execution_count": 4,
   "metadata": {},
   "outputs": [],
   "source": [
    "dataset_df = pd.read_sql_query(\n",
    "    query, \n",
    "    connect_db_imoveis\n",
    ")"
   ]
  },
  {
   "cell_type": "code",
   "execution_count": 14,
   "metadata": {
    "scrolled": true
   },
   "outputs": [
    {
     "data": {
      "text/html": [
       "<div>\n",
       "<style scoped>\n",
       "    .dataframe tbody tr th:only-of-type {\n",
       "        vertical-align: middle;\n",
       "    }\n",
       "\n",
       "    .dataframe tbody tr th {\n",
       "        vertical-align: top;\n",
       "    }\n",
       "\n",
       "    .dataframe thead th {\n",
       "        text-align: right;\n",
       "    }\n",
       "</style>\n",
       "<table border=\"1\" class=\"dataframe\">\n",
       "  <thead>\n",
       "    <tr style=\"text-align: right;\">\n",
       "      <th></th>\n",
       "      <th>cidade</th>\n",
       "      <th>estado</th>\n",
       "      <th>area</th>\n",
       "      <th>num_quartos</th>\n",
       "      <th>num_banheiros</th>\n",
       "      <th>num_andares</th>\n",
       "      <th>aceita_animais</th>\n",
       "      <th>mobilia</th>\n",
       "      <th>valor_aluguel</th>\n",
       "      <th>valor_condominio</th>\n",
       "      <th>valor_iptu</th>\n",
       "      <th>valor_seguro_incendio</th>\n",
       "    </tr>\n",
       "  </thead>\n",
       "  <tbody>\n",
       "    <tr>\n",
       "      <th>0</th>\n",
       "      <td>São Paulo</td>\n",
       "      <td>SP</td>\n",
       "      <td>70</td>\n",
       "      <td>2</td>\n",
       "      <td>1</td>\n",
       "      <td>7</td>\n",
       "      <td>1</td>\n",
       "      <td>1</td>\n",
       "      <td>3300</td>\n",
       "      <td>2065</td>\n",
       "      <td>211</td>\n",
       "      <td>42</td>\n",
       "    </tr>\n",
       "    <tr>\n",
       "      <th>1</th>\n",
       "      <td>São Paulo</td>\n",
       "      <td>SP</td>\n",
       "      <td>320</td>\n",
       "      <td>4</td>\n",
       "      <td>4</td>\n",
       "      <td>20</td>\n",
       "      <td>1</td>\n",
       "      <td>0</td>\n",
       "      <td>4960</td>\n",
       "      <td>1200</td>\n",
       "      <td>1750</td>\n",
       "      <td>63</td>\n",
       "    </tr>\n",
       "    <tr>\n",
       "      <th>2</th>\n",
       "      <td>Porto Alegre</td>\n",
       "      <td>RS</td>\n",
       "      <td>80</td>\n",
       "      <td>1</td>\n",
       "      <td>1</td>\n",
       "      <td>6</td>\n",
       "      <td>1</td>\n",
       "      <td>0</td>\n",
       "      <td>2800</td>\n",
       "      <td>1000</td>\n",
       "      <td>0</td>\n",
       "      <td>41</td>\n",
       "    </tr>\n",
       "    <tr>\n",
       "      <th>3</th>\n",
       "      <td>Porto Alegre</td>\n",
       "      <td>RS</td>\n",
       "      <td>51</td>\n",
       "      <td>2</td>\n",
       "      <td>1</td>\n",
       "      <td>2</td>\n",
       "      <td>1</td>\n",
       "      <td>0</td>\n",
       "      <td>1112</td>\n",
       "      <td>270</td>\n",
       "      <td>22</td>\n",
       "      <td>17</td>\n",
       "    </tr>\n",
       "    <tr>\n",
       "      <th>4</th>\n",
       "      <td>São Paulo</td>\n",
       "      <td>SP</td>\n",
       "      <td>25</td>\n",
       "      <td>1</td>\n",
       "      <td>1</td>\n",
       "      <td>1</td>\n",
       "      <td>0</td>\n",
       "      <td>0</td>\n",
       "      <td>800</td>\n",
       "      <td>0</td>\n",
       "      <td>25</td>\n",
       "      <td>11</td>\n",
       "    </tr>\n",
       "  </tbody>\n",
       "</table>\n",
       "</div>"
      ],
      "text/plain": [
       "         cidade estado area num_quartos num_banheiros num_andares  \\\n",
       "0     São Paulo     SP   70           2             1           7   \n",
       "1     São Paulo     SP  320           4             4          20   \n",
       "2  Porto Alegre     RS   80           1             1           6   \n",
       "3  Porto Alegre     RS   51           2             1           2   \n",
       "4     São Paulo     SP   25           1             1           1   \n",
       "\n",
       "   aceita_animais  mobilia valor_aluguel valor_condominio valor_iptu  \\\n",
       "0               1        1          3300             2065        211   \n",
       "1               1        0          4960             1200       1750   \n",
       "2               1        0          2800             1000          0   \n",
       "3               1        0          1112              270         22   \n",
       "4               0        0           800                0         25   \n",
       "\n",
       "  valor_seguro_incendio  \n",
       "0                    42  \n",
       "1                    63  \n",
       "2                    41  \n",
       "3                    17  \n",
       "4                    11  "
      ]
     },
     "execution_count": 14,
     "metadata": {},
     "output_type": "execute_result"
    }
   ],
   "source": [
    "dataset_df.head()"
   ]
  },
  {
   "cell_type": "markdown",
   "metadata": {},
   "source": [
    "Convertendo dados categóricos para numéricos."
   ]
  },
  {
   "cell_type": "code",
   "execution_count": 6,
   "metadata": {},
   "outputs": [],
   "source": [
    "dataset_df.aceita_animais.replace({'acept': 1, 'not acept':0}, inplace=True)"
   ]
  },
  {
   "cell_type": "code",
   "execution_count": 7,
   "metadata": {},
   "outputs": [],
   "source": [
    "dataset_df.mobilia.replace({'furnished': 1, 'not furnished':0}, inplace=True)"
   ]
  },
  {
   "cell_type": "markdown",
   "metadata": {},
   "source": [
    "Limpando os registros"
   ]
  },
  {
   "cell_type": "code",
   "execution_count": 10,
   "metadata": {},
   "outputs": [],
   "source": [
    "dataset_df.num_andares.replace({'-': 1}, inplace=True)"
   ]
  },
  {
   "cell_type": "code",
   "execution_count": 11,
   "metadata": {},
   "outputs": [],
   "source": [
    "dataset_df.cidade = dataset_df.cidade.str.title()"
   ]
  },
  {
   "cell_type": "code",
   "execution_count": 12,
   "metadata": {},
   "outputs": [],
   "source": [
    "dataset_df.cidade.replace({ \n",
    "        'Sao Paulo': 'São Paulo',\n",
    "        'Rio Janeiro': 'Rio de Janeiro' \n",
    "       },\n",
    "            inplace=True\n",
    ")"
   ]
  },
  {
   "cell_type": "code",
   "execution_count": null,
   "metadata": {},
   "outputs": [],
   "source": []
  }
 ],
 "metadata": {
  "kernelspec": {
   "display_name": "Python 3",
   "language": "python",
   "name": "python3"
  },
  "language_info": {
   "codemirror_mode": {
    "name": "ipython",
    "version": 3
   },
   "file_extension": ".py",
   "mimetype": "text/x-python",
   "name": "python",
   "nbconvert_exporter": "python",
   "pygments_lexer": "ipython3",
   "version": "3.7.6"
  }
 },
 "nbformat": 4,
 "nbformat_minor": 5
}
